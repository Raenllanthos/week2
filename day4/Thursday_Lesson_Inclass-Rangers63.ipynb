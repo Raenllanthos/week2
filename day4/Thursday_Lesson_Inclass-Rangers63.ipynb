{
 "cells": [
  {
   "cell_type": "markdown",
   "metadata": {},
   "source": [
    "# Object-Oriented-Programming (OOP)"
   ]
  },
  {
   "cell_type": "markdown",
   "metadata": {},
   "source": [
    "## Tasks Today:\n",
    "\n",
    "   \n",
    "\n",
    "1) <b>Creating a Class (Initializing/Declaring)</b> <br>\n",
    "2) <b>Using a Class (Instantiating)</b> <br>\n",
    " &nbsp;&nbsp;&nbsp;&nbsp; a) Creating One Instance <br>\n",
    " &nbsp;&nbsp;&nbsp;&nbsp; b) Creating Multiple Instances <br>\n",
    " &nbsp;&nbsp;&nbsp;&nbsp; c) In-Class Exercise #1 - Create a Class 'Car' and instantiate three different makes of cars <br>\n",
    "3) <b>The \\__init\\__() Method</b> <br>\n",
    " &nbsp;&nbsp;&nbsp;&nbsp; a) The 'self' Attribute <br>\n",
    "4) <b>Class Attributes</b> <br>\n",
    " &nbsp;&nbsp;&nbsp;&nbsp; a) Initializing Attributes <br>\n",
    " &nbsp;&nbsp;&nbsp;&nbsp; b) Setting an Attribute Outside of the \\__init\\__() Method <br>\n",
    " &nbsp;&nbsp;&nbsp;&nbsp; c) Setting Defaults for Attributes <br>\n",
    " &nbsp;&nbsp;&nbsp;&nbsp; d) Accessing Class Attributes <br>\n",
    " &nbsp;&nbsp;&nbsp;&nbsp; e) Changing Class Attributes <br>\n",
    " &nbsp;&nbsp;&nbsp;&nbsp; f) In-Class Exercise #2 - Add a color and wheels attribute to your 'Car' class <br>\n",
    "5) <b>Class Methods</b> <br>\n",
    " &nbsp;&nbsp;&nbsp;&nbsp; a) Creating <br>\n",
    " &nbsp;&nbsp;&nbsp;&nbsp; b) Calling <br>\n",
    " &nbsp;&nbsp;&nbsp;&nbsp; c) Modifying an Attribute's Value Through a Method <br>\n",
    " &nbsp;&nbsp;&nbsp;&nbsp; d) Incrementing an Attribute's Value Through a Method <br>\n",
    " &nbsp;&nbsp;&nbsp;&nbsp; e) In-Class Exercise #3 - Add a method that prints the cars color and wheel number, then call them <br>\n",
    "6) <b>Inheritance</b> <br>\n",
    " &nbsp;&nbsp;&nbsp;&nbsp; a) Syntax for Inheriting from a Parent Class <br>\n",
    " &nbsp;&nbsp;&nbsp;&nbsp; b) The \\__init\\__() Method for a Child Class (super()) <br>\n",
    " &nbsp;&nbsp;&nbsp;&nbsp; c) Defining Attributes and Methods for the Child Class <br>\n",
    " &nbsp;&nbsp;&nbsp;&nbsp; d) Method Overriding <br>\n",
    " &nbsp;&nbsp;&nbsp;&nbsp; e) In-Class Exercise #4 - Create a class 'Ford' that inherits from 'Car' class and initialize it as a Blue Ford Explorer with 4 wheels using the super() method <br>\n",
    "7) <b>Classes as Attributes</b> <br>\n",
    "8) <b>Exercises</b> <br>\n",
    " &nbsp;&nbsp;&nbsp;&nbsp; a) Exercise #1 - Turn the shopping cart program from yesterday into an object-oriented program <br>"
   ]
  },
  {
   "cell_type": "markdown",
   "metadata": {},
   "source": [
    "## Creating a Class (Initializing/Declaring)\n",
    "<p>When creating a class, function, or even a variable you are initializing that object. Initializing and Declaring occur at the same time in Python, whereas in lower level languages you have to declare an object before initializing it. This is the first step in the process of using a class.</p>"
   ]
  },
  {
   "cell_type": "code",
   "execution_count": 4,
   "metadata": {},
   "outputs": [],
   "source": [
    "class Car():\n",
    "    wheels = 4\n",
    "    color = 'blue'"
   ]
  },
  {
   "cell_type": "markdown",
   "metadata": {},
   "source": [
    "## Using a Class (Instantiating)\n",
    "<p>The process of creating a class is called <i>Instantiating</i>. Each time you create a variable of that type of class, it is referred to as an <i>Instance</i> of that class. This is the second step in the process of using a class.</p>"
   ]
  },
  {
   "cell_type": "markdown",
   "metadata": {},
   "source": [
    "##### Creating One Instance"
   ]
  },
  {
   "cell_type": "code",
   "execution_count": 12,
   "metadata": {},
   "outputs": [
    {
     "name": "stdout",
     "output_type": "stream",
     "text": [
      "blue\n"
     ]
    }
   ],
   "source": [
    "ford = Car()\n",
    "print(ford.color)"
   ]
  },
  {
   "cell_type": "markdown",
   "metadata": {},
   "source": [
    "##### Creating Multiple Instances"
   ]
  },
  {
   "cell_type": "code",
   "execution_count": 13,
   "metadata": {},
   "outputs": [],
   "source": [
    "honda = Car()\n",
    "chevy = Car()\n",
    "porsche = Car()\n",
    "\n",
    "print(trype(porsche.color))\n",
    "print(honda.horn)"
   ]
  },
  {
   "cell_type": "markdown",
   "metadata": {},
   "source": [
    "##### In-Class Exercise #1 - Create a Class 'Car' and Instantiate three different makes of cars"
   ]
  },
  {
   "cell_type": "code",
   "execution_count": 17,
   "metadata": {},
   "outputs": [],
   "source": [
    "class Car():\n",
    "    wheels = 4\n",
    "    color = \"green\"\n",
    "    \n",
    "Ford = Car()\n",
    "Honda = Car()\n",
    "Mazerati = Car()"
   ]
  },
  {
   "cell_type": "markdown",
   "metadata": {},
   "source": [
    "## The \\__init\\__() Method <br>\n",
    "<p>This method is used in almost every created class, and called only once upon the creation of the class instance. This method will initialize all variables needed for the object.</p>"
   ]
  },
  {
   "cell_type": "code",
   "execution_count": 30,
   "metadata": {},
   "outputs": [
    {
     "name": "stdout",
     "output_type": "stream",
     "text": [
      "red\n",
      "4.7L\n"
     ]
    }
   ],
   "source": [
    "class Car():\n",
    "    engine = \"4.7L\" # constant-attribute\n",
    "    def __init__(self, wheels, color):\n",
    "        self.wheels = wheels\n",
    "        self.color = color\n",
    "chevy = Car(4, \"red\")\n",
    "honda = Car(5 ,\"green\")\n",
    "\n",
    "print(chevy.color)\n",
    "honda.__dict__\n",
    "print(chevy.engine)"
   ]
  },
  {
   "cell_type": "markdown",
   "metadata": {},
   "source": [
    "##### The 'self' Attribute <br>\n",
    "<p>This attribute is required to keep track of specific instance's attributes. Without the self attribute, the program would not know how to reference or keep track of an instance's attributes.</p>"
   ]
  },
  {
   "cell_type": "code",
   "execution_count": null,
   "metadata": {},
   "outputs": [],
   "source": [
    "# see above"
   ]
  },
  {
   "cell_type": "markdown",
   "metadata": {},
   "source": [
    "## Class Attributes <br>\n",
    "<p>While variables are inside of a class, they are referred to as attributes and not variables. When someone says 'attribute' you know they're speaking about a class. Attributes can be initialized through the init method, or outside of it.</p>"
   ]
  },
  {
   "cell_type": "markdown",
   "metadata": {},
   "source": [
    "##### Initializing Attributes"
   ]
  },
  {
   "cell_type": "code",
   "execution_count": 33,
   "metadata": {},
   "outputs": [],
   "source": [
    "# see above\n",
    "\n",
    "class Toy():\n",
    "    kind = \"car\" # DOESN'T FREQUENTLY CHANGE\n",
    "    def __init__(self, color, coolFactor, decal):\n",
    "        self.color = color\n",
    "        self.coolFactor = coolFactor\n",
    "        self.decal = decal\n",
    "    \n",
    "tankaTruck = Toy(\"yellow\", 3, \"racing stripes\")\n",
    "regHotWheels = Toy(\"red\" , 6, \"flames\")"
   ]
  },
  {
   "cell_type": "markdown",
   "metadata": {},
   "source": [
    "##### Accessing Class Attributes"
   ]
  },
  {
   "cell_type": "code",
   "execution_count": 34,
   "metadata": {
    "scrolled": true
   },
   "outputs": [
    {
     "name": "stdout",
     "output_type": "stream",
     "text": [
      "racing stripes\n"
     ]
    }
   ],
   "source": [
    "# See Above\n",
    "print(tankaTruck.decal)"
   ]
  },
  {
   "cell_type": "markdown",
   "metadata": {},
   "source": [
    "##### Setting Defaults for Attributes"
   ]
  },
  {
   "cell_type": "code",
   "execution_count": 36,
   "metadata": {},
   "outputs": [
    {
     "name": "stdout",
     "output_type": "stream",
     "text": [
      "blue\n",
      "8\n"
     ]
    }
   ],
   "source": [
    "class Car():\n",
    "    engine = \"4.7L\"\n",
    "    \n",
    "    def __init__(self, wheels):\n",
    "        self.wheels = wheels\n",
    "        self.color = \"blue\" # default attribute\n",
    "        \n",
    "jeep = Car(8)\n",
    "honda = Car(4)\n",
    "print(honda.color)\n",
    "print(jeep.wheels)"
   ]
  },
  {
   "cell_type": "code",
   "execution_count": 39,
   "metadata": {},
   "outputs": [
    {
     "name": "stdout",
     "output_type": "stream",
     "text": [
      "Blue\n",
      "red\n"
     ]
    }
   ],
   "source": [
    "class Car():\n",
    "    engine = \"4.7L\"\n",
    "    \n",
    "    def __init__(self, wheels, color = \"Blue\"):\n",
    "        self.wheels = wheels\n",
    "        self.color = color\n",
    "        \n",
    "jeep = Car(8)\n",
    "toyota = Car(4, \"red\")\n",
    "\n",
    "print(jeep.color)\n",
    "print(toyota.color)"
   ]
  },
  {
   "cell_type": "markdown",
   "metadata": {},
   "source": [
    "##### Changing Class Attributes <br>\n",
    "<p>Keep in mind there are global class attributes and then there are attributes only available to each class instance which won't effect other classes.</p>"
   ]
  },
  {
   "cell_type": "code",
   "execution_count": 40,
   "metadata": {},
   "outputs": [
    {
     "name": "stdout",
     "output_type": "stream",
     "text": [
      "Before Change: Blue\n",
      "\n",
      "After Change: white\n"
     ]
    }
   ],
   "source": [
    "# Changing the ddefault Attribute for this example\n",
    "print(f\"Before Change: {jeep.color}\")\n",
    "jeep.color = \"white\"\n",
    "\n",
    "print(f\"\\nAfter Change: {jeep.color}\")"
   ]
  },
  {
   "cell_type": "code",
   "execution_count": null,
   "metadata": {},
   "outputs": [],
   "source": []
  },
  {
   "cell_type": "markdown",
   "metadata": {},
   "source": [
    "##### In-Class Exercise #2 - Add a doors and seats attribute to your 'Car' class then print out two different instances with different doors and seats"
   ]
  },
  {
   "cell_type": "code",
   "execution_count": 48,
   "metadata": {},
   "outputs": [
    {
     "name": "stdout",
     "output_type": "stream",
     "text": [
      "My Honda has 2 wheels, is a Green color, has 5 doors, and 3 seats\n",
      "My Jeep has 3.7 wheels, is a #008B8B color, has 3 doors, and 2 seats\n"
     ]
    }
   ],
   "source": [
    "class Car():\n",
    "    engine = \"4.7L\"\n",
    "    \n",
    "    def __init__(self, wheels, color, doors, seats):\n",
    "        self.wheels = wheels\n",
    "        self.color = color\n",
    "        self.doors = doors\n",
    "        self.seats = seats\n",
    "        \n",
    "honda = Car(2, \"green\", 5, 3)\n",
    "jeep = Car(3.7, \"#008b8b\", 3, 2)\n",
    "print(f\"My Honda has {honda.wheels} wheels, is a {honda.color.title()} color, has {honda.doors} doors, and {honda.seats} seats\")\n",
    "print(f\"My Jeep has {jeep.wheels} wheels, is a {jeep.color.title()} color, has {jeep.doors} doors, and {jeep.seats} seats\")"
   ]
  },
  {
   "cell_type": "markdown",
   "metadata": {},
   "source": [
    "## Class Methods <br>\n",
    "<p>While inside of a class, functions are referred to as 'methods'. If you hear someone mention methods, they're speaking about classes. Methods are essentially functions, but only callable on the instances of a class.</p>"
   ]
  },
  {
   "cell_type": "markdown",
   "metadata": {},
   "source": [
    "##### Creating"
   ]
  },
  {
   "cell_type": "code",
   "execution_count": 60,
   "metadata": {},
   "outputs": [],
   "source": [
    "class ShoppingBag():\n",
    "    \"\"\"\n",
    "    The Shopping Bag Class will have handles, capacity and items to place inside.\n",
    "    Attributes:\n",
    "    - handles: integer\n",
    "    - capacity: string or integer\n",
    "    - items: list\n",
    "    \"\"\"\n",
    "    def __init__(self, handles, capacity, items):\n",
    "        self.handles = handles\n",
    "        self.capacity = capacity\n",
    "        self.items = items\n",
    "    #method that shows the shoppingBag items\n",
    "    \n",
    "    def showShoppingBag(self):\n",
    "        print(\"You have items in your bag!\")\n",
    "        for item in self.items:\n",
    "            print(item)\n",
    "            \n",
    "    # Show Capacity  of Shopping Bag\n",
    "    def showCapacity(self):\n",
    "        print(f\"Your Capacity is: {self.capacity}\")\n",
    "        \n",
    "    #Add item(s) to the items list for the shopping bag\n",
    "    def addToShoppingBag(self):\n",
    "        products = input(\"What would you like to add? \")\n",
    "        self.items.append(products)\n",
    "    \n",
    "    # change the capacity of the shopping bag\n",
    "    def changeBagCapacity(self, capacity):\n",
    "        self.capacity = capacity\n",
    "        \n",
    "    # increase capacity of the shopping bag, default 10\n",
    "    def increaseCapacity(self, changedCap = 10):\n",
    "        if self.capacity == isinstance(self.capacity, str):\n",
    "            print(\"We can't do that here boss...\")\n",
    "        else:\n",
    "            self.capacity += changedCap"
   ]
  },
  {
   "cell_type": "markdown",
   "metadata": {},
   "source": [
    "##### Calling"
   ]
  },
  {
   "cell_type": "code",
   "execution_count": 62,
   "metadata": {},
   "outputs": [
    {
     "name": "stdout",
     "output_type": "stream",
     "text": [
      "What do you want to do? add/show or quitadd\n",
      "What would you like to add? milk\n",
      "What do you want to do? add/show or quitshow\n",
      "You have items in your bag!\n",
      "milk\n",
      "What do you want to do? add/show or quitquit\n",
      "You have items in your bag!\n",
      "milk\n",
      "Thanks for shopping\n"
     ]
    }
   ],
   "source": [
    "# See Above\n",
    "aldiBag = ShoppingBag(2,10,[])\n",
    "\n",
    "# create a function to run the shoppingBag(aldiBag) methods\n",
    "\n",
    "def run():\n",
    "    while True:\n",
    "        response = input(\"What do you want to do? add/show or quit\")\n",
    "        \n",
    "        if response.lower() == \"quit\":\n",
    "            aldiBag.showShoppingBag()\n",
    "            print(\"Thanks for shopping\")\n",
    "            break\n",
    "            \n",
    "        elif response.lower() == \"add\":\n",
    "            aldiBag.addToShoppingBag()\n",
    "        \n",
    "        elif response.lower() == \"show\":\n",
    "            aldiBag.showShoppingBag()\n",
    "            \n",
    "run()"
   ]
  },
  {
   "cell_type": "markdown",
   "metadata": {},
   "source": [
    "##### Modifying an Attribute's Value Through a Method"
   ]
  },
  {
   "cell_type": "code",
   "execution_count": 64,
   "metadata": {},
   "outputs": [
    {
     "name": "stdout",
     "output_type": "stream",
     "text": [
      "Your Capacity is: 50\n",
      "Capacity AFTER the change...\n",
      "Your Capacity is: 50\n"
     ]
    }
   ],
   "source": [
    "# Show Capacity\n",
    "aldiBag.showCapacity()\n",
    "print(\"Capacity AFTER the change...\")\n",
    "aldiBag.changeBagCapacity(50)\n",
    "aldiBag.showCapacity()"
   ]
  },
  {
   "cell_type": "markdown",
   "metadata": {},
   "source": [
    "##### Incrementing an Attribute's Value Through a Method"
   ]
  },
  {
   "cell_type": "code",
   "execution_count": 66,
   "metadata": {},
   "outputs": [
    {
     "name": "stdout",
     "output_type": "stream",
     "text": [
      "Your Capacity is: 50\n",
      "Capacity AFTER the change...\n",
      "Your Capacity is: 60\n"
     ]
    }
   ],
   "source": [
    "# Show Capacity\n",
    "aldiBag.showCapacity()\n",
    "print(\"Capacity AFTER the change...\")\n",
    "aldiBag.increaseCapacity()\n",
    "aldiBag.showCapacity()"
   ]
  },
  {
   "cell_type": "markdown",
   "metadata": {},
   "source": [
    "##### In-Class Exercise #3 - Add a method that takes in three parameters of year, doors and seats and prints out a formatted print statement with make, model, year, seats, and doors"
   ]
  },
  {
   "cell_type": "code",
   "execution_count": 80,
   "metadata": {},
   "outputs": [
    {
     "name": "stdout",
     "output_type": "stream",
     "text": [
      "My 2019 Honda is Green, has 2 wheels. It has 5 doors and 3 cloth seats\n",
      "My 1939 Jeep is #008B8B, has 3.7 wheels. It has 3 doors and 2 leather seats\n"
     ]
    }
   ],
   "source": [
    "# Create class with 2 paramters inside of the __init__ which are make and model\n",
    "\n",
    "# Inside of the Car class create a method that has 4 parameter in total (self,year,door,seats)\n",
    "\n",
    "# Output: This car is from 2019 and is a Ford Expolorer and has 4 doors and 5 seats\n",
    "\n",
    "class Car():\n",
    "    engine = \"4.7L\"\n",
    "    \n",
    "    def __init__(self, wheels, make, color, seatKind):\n",
    "        self.wheels = wheels\n",
    "        self.make = make\n",
    "        self.color = color\n",
    "        self.seatKind = seatKind\n",
    "        \n",
    "    def printInfo(self, year, doors, seats):\n",
    "        print(f\"My {year} {self.make.title()} is {self.color.title()}, has {self.wheels} wheels. It has {doors} doors and {seats} {self.seatKind} seats\")\n",
    "        \n",
    "honda = Car(2, \"honda\", \"green\", \"cloth\")\n",
    "jeep = Car(3.7, \"jeep\", \"#008b8b\", \"leather\")\n",
    "              \n",
    "honda.printInfo(2019, 5, 3)\n",
    "jeep.printInfo(1939, 3, 2)\n",
    "              \n",
    "# print(f\"My Honda has {honda.wheels} wheels, is a {honda.color.title()} color, has {honda.doors} doors, and {honda.seats} seats\")\n",
    "# print(f\"My Jeep has {jeep.wheels} wheels, is a {jeep.color.title()} color, has {jeep.doors} doors, and {jeep.seats} seats\")"
   ]
  },
  {
   "cell_type": "markdown",
   "metadata": {},
   "source": [
    "## Inheritance <br>\n",
    "<p>You can create a child-parent relationship between two classes by using inheritance. What this allows you to do is have overriding methods, but also inherit traits from the parent class. Think of it as an actual parent and child, the child will inherit the parent's genes, as will the classes in OOP</p>"
   ]
  },
  {
   "cell_type": "markdown",
   "metadata": {},
   "source": [
    "##### Syntax for Inheriting from a Parent Class"
   ]
  },
  {
   "cell_type": "code",
   "execution_count": null,
   "metadata": {},
   "outputs": [],
   "source": []
  },
  {
   "cell_type": "markdown",
   "metadata": {},
   "source": [
    "##### The \\__init\\__() Method for a Child Class - super()"
   ]
  },
  {
   "cell_type": "code",
   "execution_count": null,
   "metadata": {
    "scrolled": true
   },
   "outputs": [],
   "source": []
  },
  {
   "cell_type": "markdown",
   "metadata": {},
   "source": [
    "##### Defining Attributes and Methods for the Child Class"
   ]
  },
  {
   "cell_type": "code",
   "execution_count": null,
   "metadata": {},
   "outputs": [],
   "source": [
    "# See Above"
   ]
  },
  {
   "cell_type": "markdown",
   "metadata": {},
   "source": [
    "##### Method Overriding"
   ]
  },
  {
   "cell_type": "code",
   "execution_count": null,
   "metadata": {},
   "outputs": [],
   "source": [
    "# See Above"
   ]
  },
  {
   "cell_type": "markdown",
   "metadata": {},
   "source": [
    "## Classes as Attributes <br>\n",
    "<p>Classes can also be used as attributes within another class. This is useful in situations where you need to keep variables locally stored, instead of globally stored.</p>"
   ]
  },
  {
   "cell_type": "code",
   "execution_count": null,
   "metadata": {},
   "outputs": [],
   "source": []
  },
  {
   "cell_type": "markdown",
   "metadata": {},
   "source": [
    "# Exercises"
   ]
  },
  {
   "cell_type": "markdown",
   "metadata": {},
   "source": [
    "### Exercise 1 - Turn the shopping cart program from yesterday into an object-oriented program\n",
    "\n",
    "The comments in the cell below are there as a guide for thinking about the problem. However, if you feel a different way is best for you and your own thought process, please do what feels best for you by all means."
   ]
  },
  {
   "cell_type": "code",
   "execution_count": 114,
   "metadata": {},
   "outputs": [
    {
     "name": "stdout",
     "output_type": "stream",
     "text": [
      "Showing Shopping Cart:\n",
      "\n",
      "Ryan'S Mustache is $999999.0\n",
      "Thank you for shopping\n"
     ]
    }
   ],
   "source": [
    "from IPython.display import clear_output\n",
    "    \n",
    "class Shop():\n",
    "\n",
    "    def show(self, cart):\n",
    "        print(\"Showing Shopping Cart:\\n\")\n",
    "        for k,v in cart.items():\n",
    "            print(f\"{k.title()} is ${v}\")\n",
    "\n",
    "    def add(self, cart, key, value):\n",
    "        cart[key] = value\n",
    "\n",
    "    def remove(self, cart, key):\n",
    "        del cart[key]\n",
    "\n",
    "    def buyItem(self, cart):\n",
    "        item = input(\"What item to buy? \")\n",
    "        price = float(input(\"What is the price? \"))\n",
    "        self.add(cart, item, price)\n",
    "    \n",
    "    def removeItem(self, cart):\n",
    "        self.show(cart)\n",
    "        print(\"\\n\")\n",
    "        removeInput = input(\"Which item to remove? \" )\n",
    "        clear_output()\n",
    "        self.remove(cart, removeInput)\n",
    "        print(\"Item removed.\")\n",
    "        self.show(cart)\n",
    "        \n",
    "# ---------------------------------------------------------------------------------------------------\n",
    "        \n",
    "def main():\n",
    "    cart = {}\n",
    "    while True:\n",
    "        ask = input(\"'Buy' an item, 'remove' an item, 'show' shopping cart, or 'quit'? \")\n",
    "        clear_output()\n",
    "        if ask.lower() == \"buy\":\n",
    "            Shop().buyItem(cart)\n",
    "\n",
    "        elif ask.lower() == \"remove\":\n",
    "            if cart != {}:\n",
    "                Shop().removeItem(cart)\n",
    "            else:\n",
    "                print(\"Your shopping cart is:\\n-- Empty --\")\n",
    "\n",
    "        elif ask.lower() == \"show\":\n",
    "            if cart != {}:\n",
    "                Shop().show(cart)\n",
    "            else:\n",
    "                print(\"Your shopping cart is:\\n-- Empty --\")\n",
    "\n",
    "        elif ask.lower() == \"quit\":\n",
    "            Shop().show(cart)\n",
    "            print(\"Thank you for shopping\")\n",
    "            break\n",
    "            \n",
    "main()"
   ]
  },
  {
   "cell_type": "markdown",
   "metadata": {},
   "source": [
    "### Exercise 2 - Write a Python class which has two methods get_String and print_String. get_String accept a string from the user and print_String print the string in upper case"
   ]
  },
  {
   "cell_type": "code",
   "execution_count": 24,
   "metadata": {},
   "outputs": [
    {
     "name": "stdout",
     "output_type": "stream",
     "text": [
      "yell: poop\n",
      "POOP\n"
     ]
    }
   ],
   "source": [
    "class printUpper():\n",
    "        \n",
    "    def getString(self):\n",
    "        return input(\"yell: \")\n",
    "        \n",
    "    def printString(self, inputStr):\n",
    "        print(inputStr.upper())\n",
    "        \n",
    "def main():\n",
    "    inputStr = printUpper().getString()\n",
    "    printUpper().printString(inputStr)\n",
    "    \n",
    "main()"
   ]
  },
  {
   "cell_type": "code",
   "execution_count": null,
   "metadata": {},
   "outputs": [],
   "source": []
  }
 ],
 "metadata": {
  "kernelspec": {
   "display_name": "Python 3",
   "language": "python",
   "name": "python3"
  },
  "language_info": {
   "codemirror_mode": {
    "name": "ipython",
    "version": 3
   },
   "file_extension": ".py",
   "mimetype": "text/x-python",
   "name": "python",
   "nbconvert_exporter": "python",
   "pygments_lexer": "ipython3",
   "version": "3.8.5"
  }
 },
 "nbformat": 4,
 "nbformat_minor": 2
}
